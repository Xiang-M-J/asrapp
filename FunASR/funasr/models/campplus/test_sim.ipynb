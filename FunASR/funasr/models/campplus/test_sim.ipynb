{
 "cells": [
  {
   "cell_type": "code",
   "id": "initial_id",
   "metadata": {
    "collapsed": true,
    "ExecuteTime": {
     "end_time": "2024-07-26T02:11:55.053051Z",
     "start_time": "2024-07-26T02:11:52.112634Z"
    }
   },
   "source": [
    "import onnxruntime\n",
    "import torch\n",
    "import torchaudio\n",
    "import torchaudio.compliance.kaldi as Kaldi\n",
    "ort_session = onnxruntime.InferenceSession(\"model_quant.onnx\")\n",
    "\n",
    "audio_list = [\"A2_1.wav\", \"A2_2.wav\", \"A2_3.wav\",\"D7_858.wav\", \"D7_859.wav\", \"D7_860.wav\"]\n",
    "\n",
    "embedding = []\n",
    "for audio in audio_list:\n",
    "    wav, _ = torchaudio.load(f\"D:\\\\work\\\\asrapp\\\\FunASR\\\\funasr\\\\models\\\\campplus\\\\{audio}\")\n",
    "    fbank = Kaldi.fbank(wav, num_mel_bins=80)\n",
    "    fbank = fbank - torch.mean(fbank, dim=0, keepdim=True)\n",
    "    fbank.unsqueeze_(0)\n",
    "    y = ort_session.run(None, {\"feats\": fbank.numpy()})\n",
    "    embedding.append(y[0])\n"
   ],
   "outputs": [],
   "execution_count": 14
  },
  {
   "metadata": {
    "ExecuteTime": {
     "end_time": "2024-07-26T02:12:31.049318Z",
     "start_time": "2024-07-26T02:12:31.031320Z"
    }
   },
   "cell_type": "code",
   "source": [
    "sim = torch.cosine_similarity(torch.from_numpy(embedding[3]), torch.from_numpy(embedding[0]))\n",
    "print(sim)"
   ],
   "id": "d4eab12788faf2ce",
   "outputs": [
    {
     "name": "stdout",
     "output_type": "stream",
     "text": [
      "tensor([0.3980])\n"
     ]
    }
   ],
   "execution_count": 21
  },
  {
   "metadata": {},
   "cell_type": "code",
   "outputs": [],
   "execution_count": null,
   "source": "",
   "id": "dfd590f1d76f13a8"
  }
 ],
 "metadata": {
  "kernelspec": {
   "display_name": "Python 3",
   "language": "python",
   "name": "python3"
  },
  "language_info": {
   "codemirror_mode": {
    "name": "ipython",
    "version": 2
   },
   "file_extension": ".py",
   "mimetype": "text/x-python",
   "name": "python",
   "nbconvert_exporter": "python",
   "pygments_lexer": "ipython2",
   "version": "2.7.6"
  }
 },
 "nbformat": 4,
 "nbformat_minor": 5
}
